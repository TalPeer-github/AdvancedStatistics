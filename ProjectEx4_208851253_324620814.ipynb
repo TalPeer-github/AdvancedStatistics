{
 "cells": [
  {
   "cell_type": "code",
   "execution_count": 88,
   "id": "13283244",
   "metadata": {
    "tags": []
   },
   "outputs": [],
   "source": [
    "import pandas as pd\n",
    "import numpy as np\n",
    "import matplotlib.pyplot as plt\n",
    "import datetime\n",
    "from datetime import datetime, date\n",
    "import seaborn as sns\n",
    "import scipy.stats as st\n",
    "from pandas import DataFrame\n",
    "from sklearn.linear_model import LinearRegression\n",
    "import statsmodels.api as sm\n",
    "import statsmodels.stats.api as sms\n",
    "from sklearn.metrics import mean_squared_error\n",
    "from sklearn.model_selection import train_test_split\n",
    "import statsmodels as statm\n",
    "from scipy.stats import norm, f\n",
    "from sklearn.preprocessing import PolynomialFeatures\n",
    "from sklearn.model_selection import cross_val_score\n",
    "import warnings\n",
    "from sklearn.linear_model import LogisticRegression\n",
    "import math\n",
    "warnings.filterwarnings('ignore')\n",
    "warnings.filterwarnings(\"ignore\", category=np.VisibleDeprecationWarning)"
   ]
  },
  {
   "cell_type": "code",
   "execution_count": 89,
   "id": "63e1c4fe",
   "metadata": {
    "tags": []
   },
   "outputs": [],
   "source": [
    "def get_cleaned_data():\n",
    "    data = pd.read_csv('/home/tal/Downloads/athletes.csv')\n",
    "    data['dob'] = pd.to_datetime(data[\"dob\"], format='%m/%d/%y')\n",
    "    data['age'] = (pd.to_datetime('now') - data['dob']).astype('<m8[Y]')\n",
    "    data['age'] = data['age'].astype(float)\n",
    "    data = data.loc[data['age'] > 0, :]\n",
    "    data = data.dropna()\n",
    "    data[\"total\"] = data[['gold', 'silver', 'bronze']].agg(sum, axis=1)\n",
    "    data['gender']=data['sex'].copy()\n",
    "    data['gender']= data['gender'].apply(lambda x: 1 if x=='Female' else 2)\n",
    "    data['won'] = data['total'].apply(lambda x: x if x>0 else x+0.1)#1 if x == 0 else x)\n",
    "    return data"
   ]
  },
  {
   "cell_type": "code",
   "execution_count": 90,
   "id": "22f28872",
   "metadata": {
    "tags": []
   },
   "outputs": [],
   "source": [
    "def get_sample(data):\n",
    "    winners = data.loc[data['won']>0.5, :]\n",
    "    winners_sample = winners.sample(n=200, random_state=1)\n",
    "    winners_sample.to_csv('winners_sample.csv')\n",
    "    winners = winners[['height', 'weight', 'age', 'sport', 'sex', 'won', 'total','gender']]\n",
    "    sample = data.sample(n=200, random_state=1)\n",
    "    return sample"
   ]
  },
  {
   "cell_type": "code",
   "execution_count": 91,
   "id": "e917c111",
   "metadata": {},
   "outputs": [],
   "source": [
    "df = get_cleaned_data()\n",
    "np.random.seed(42)\n",
    "sub_df = df.sample(n=200,random_state=42)\n",
    "sub_df = sub_df[['weight', 'gender', 'won','age']]\n",
    "X = sub_df\n",
    "y = sub_df['age']\n",
    "X = sm.add_constant(X)\n",
    "beta = np.linalg.inv(X.T @ X) @ X.T @ y\n",
    "predictions = np.dot(X, beta)\n",
    "beta =[27.983130,0.060873,0.000,0.777799]"
   ]
  },
  {
   "cell_type": "markdown",
   "id": "89bcd760",
   "metadata": {},
   "source": [
    "## **Questions 1+2**"
   ]
  },
  {
   "cell_type": "markdown",
   "id": "9d9fb327",
   "metadata": {},
   "source": [
    "### Section A"
   ]
  },
  {
   "cell_type": "code",
   "execution_count": 92,
   "id": "d1d9a383",
   "metadata": {},
   "outputs": [
    {
     "name": "stdout",
     "output_type": "stream",
     "text": [
      "\n",
      "Beta - 0\n",
      "CI Normal Aproximation by Covariance Matrix = [ 27.973849590663498, 27.9924104093365]\n",
      "CI Length: 0.01856081867300219\n",
      "CI contains the value of regression coeffision : True\n",
      "\n",
      "Beta - 1\n",
      "CI Normal Aproximation by Covariance Matrix = [ -0.45510838302468976, 0.5768543830246897]\n",
      "CI Length: 1.0319627660493795\n",
      "CI contains the value of regression coeffision : True\n",
      "\n",
      "Beta - 2\n",
      "CI Normal Aproximation by Covariance Matrix = [ -0.34657757657773636, 0.34657757657773636]\n",
      "CI Length: 0.6931551531554727\n",
      "CI contains the value of regression coeffision : True\n",
      "\n",
      "Beta - 3\n",
      "CI Normal Aproximation by Covariance Matrix = [ 0.7507813443261425, 0.8048166556738575]\n",
      "CI Length: 0.054035311347715\n",
      "CI contains the value of regression coeffision : True\n"
     ]
    }
   ],
   "source": [
    "def SE_NormalCov():\n",
    "    l = beta - 1.96 * np.sqrt(np.diag(np.linalg.inv(X.T @ X)))\n",
    "    u = beta + 1.96 * np.sqrt(np.diag(np.linalg.inv(X.T @ X)))\n",
    "    indices = list(range(4))\n",
    "    for i in indices:\n",
    "        print(f'\\nBeta - {i}')\n",
    "        print(f\"CI Normal Aproximation by Covariance Matrix = [ {l[i]}, {u[i]}]\")\n",
    "        print(f'CI Length: {u[i] - l[i]}')\n",
    "        print(f\"CI contains the value of regression coeffision : {l[i] <= beta[i] <= u[i]}\")\n",
    "        \n",
    "SE_NormalCov()"
   ]
  },
  {
   "cell_type": "markdown",
   "id": "7fb7d972",
   "metadata": {},
   "source": [
    "### Section B "
   ]
  },
  {
   "cell_type": "code",
   "execution_count": 93,
   "id": "ef0ef275",
   "metadata": {},
   "outputs": [
    {
     "name": "stdout",
     "output_type": "stream",
     "text": [
      "\n",
      "Beta - 0\n",
      "CI Normal Aproximation by Bootstrap = [ 14.617303090553914, 41.34895690944609]\n",
      "CI Length: 26.731653818892173\n",
      "CI contains the value of regression coeffision : True\n",
      "\n",
      "Beta - 1\n",
      "CI Normal Aproximation by Bootstrap = [ -13.304953909446084, 13.426699909446086]\n",
      "CI Length: 26.73165381889217\n",
      "CI contains the value of regression coeffision : True\n",
      "\n",
      "Beta - 2\n",
      "CI Normal Aproximation by Bootstrap = [ -13.365826909446085, 13.365826909446085]\n",
      "CI Length: 26.73165381889217\n",
      "CI contains the value of regression coeffision : True\n",
      "\n",
      "Beta - 3\n",
      "CI Normal Aproximation by Bootstrap = [ -12.588027909446085, 14.143625909446085]\n",
      "CI Length: 26.73165381889217\n",
      "CI contains the value of regression coeffision : True\n"
     ]
    }
   ],
   "source": [
    "def SE_NormalBootstrap(sub_df, n_bootstraps=400):\n",
    "    beta_bootstraps = []\n",
    "    for i in range(n_bootstraps):\n",
    "        sub_df_boot = sub_df.sample(n=200, replace=True, random_state=i)\n",
    "        X_boot = sub_df_boot\n",
    "        y_boot = sub_df_boot['age']\n",
    "        X_boot = X_boot.drop(['age'], axis=1)\n",
    "        X_boot = sm.add_constant(X_boot)\n",
    "        beta_bootstraps.append(np.linalg.pinv(X_boot.T @ X_boot) @ X_boot.T @ y_boot)\n",
    "    return np.array(beta_bootstraps)\n",
    "\n",
    "se_boot = np.std(SE_NormalBootstrap(sub_df))\n",
    "l = beta - 1.96 * se_boot\n",
    "u = beta + 1.96 * se_boot\n",
    "indices = list(range(4))\n",
    "for i in indices:\n",
    "    print(f'\\nBeta - {i}')\n",
    "    print(f\"CI Normal Aproximation by Bootstrap = [ {l[i]}, {u[i]}]\")\n",
    "    print(f'CI Length: {u[i] - l[i]}')\n",
    "    print(f\"CI contains the value of regression coeffision : {l[i] <= beta[i] <= u[i]}\")\n",
    "    \n",
    "# l = np.quantile(se_boot, 0.025, axis=0)\n",
    "# u = np.quantile(se_boot, 1 - 0.025, axis=0)\n",
    "# lower_bound = np.quantile(se_boot, 0.025)\n",
    "# upper_bound = np.quantile(se_boot, 0.975)\n",
    "# CI_pivotal = [plugIn_estimator * 2 - upper_bound, plugIn_estimator * 2 + lower_bound]\n",
    "\n",
    "# # CI_quantile = [lower_bound,upper_bound]\n",
    "\n",
    "# indices = range(len(beta))\n",
    "# for i in indices:\n",
    "#     print(f\"CI Pivotal by Bootstrap = [ {l[i]}, {u[i]}]\")\n",
    "#     print(f'\\tCI Length: {u[i] - l[i]}')\n",
    "#     print(f\"\\tCI contains the value of regression coeffision : {l[i] <= beta[i] <= u[i]}\")\n",
    "    \n",
    "\n"
   ]
  },
  {
   "cell_type": "markdown",
   "id": "4fd73ff6",
   "metadata": {},
   "source": [
    "### Section C - Pivotal Bootstrap "
   ]
  },
  {
   "cell_type": "code",
   "execution_count": 94,
   "id": "de5329cc",
   "metadata": {},
   "outputs": [
    {
     "name": "stdout",
     "output_type": "stream",
     "text": [
      "\n",
      "Beta - 0\n",
      "CI Pivotal by Bootstrap = [ 5.168647785170109, 6.325045226042504]\n",
      "CI Length: 1.1563974408723947\n",
      "CI contains the value of regression coeffision : False\n",
      "\n",
      "Beta - 1\n",
      "CI Pivotal by Bootstrap = [ 0.0153541343168737, 0.09528089785434637]\n",
      "CI Length: 0.07992676353747268\n",
      "CI contains the value of regression coeffision : True\n",
      "\n",
      "Beta - 2\n",
      "CI Pivotal by Bootstrap = [ 10.337295570339442, 12.650090452085117]\n",
      "CI Length: 2.312794881745674\n",
      "CI contains the value of regression coeffision : False\n",
      "\n",
      "Beta - 3\n",
      "CI Pivotal by Bootstrap = [ -1.6020634417396682, 2.007269006809912]\n",
      "CI Length: 3.6093324485495804\n",
      "CI contains the value of regression coeffision : True\n"
     ]
    }
   ],
   "source": [
    "def SE_NormalBootstrap(sub_df, n_bootstraps=400):\n",
    "    beta_bootstraps = []\n",
    "    for i in range(n_bootstraps):\n",
    "        sub_df_boot = sub_df.sample(n=200, replace=True, random_state=i)\n",
    "        X_boot = sub_df_boot[['weight','gender','won']].to_numpy()\n",
    "        y_boot = sub_df_boot['age'].to_numpy()\n",
    "        X_boot = np.concatenate([np.ones((X_boot.shape[0],1),dtype=X_boot.dtype), X_boot], axis=1)\n",
    "        beta_bootstraps.append(np.linalg.pinv(X_boot.T @ X_boot) @ X_boot.T @ y_boot)\n",
    "    return np.array(beta_bootstraps)\n",
    "\n",
    "se_boot = SE_NormalBootstrap(sub_df)\n",
    "l = np.quantile(se_boot, 0.025, axis=0)\n",
    "u = np.quantile(se_boot, 1 - 0.025, axis=0)\n",
    "\n",
    "indices = range(len(beta))\n",
    "for i in indices:\n",
    "    print(f'\\nBeta - {i}')\n",
    "    print(f\"CI Pivotal by Bootstrap = [ {l[i]}, {u[i]}]\")\n",
    "    print(f'CI Length: {u[i] - l[i]}')\n",
    "    print(f\"CI contains the value of regression coeffision : {l[i] <= beta[i] <= u[i]}\")\n",
    "    \n"
   ]
  },
  {
   "cell_type": "markdown",
   "id": "dd99c4a3",
   "metadata": {},
   "source": [
    "### Section D - Quantile Bootstrap"
   ]
  },
  {
   "cell_type": "code",
   "execution_count": 95,
   "id": "9838da8f",
   "metadata": {},
   "outputs": [
    {
     "name": "stdout",
     "output_type": "stream",
     "text": [
      "\n",
      "Beta - 0\n",
      "CI Quantile by Bootstrap = [ 5.248274585937316, 6.527355723558058]\n",
      "CI Length: 1.279081137620742\n",
      "CI contains the value of regression coeffision : False\n",
      "\n",
      "Beta - 1\n",
      "CI Quantile by Bootstrap = [ 0.02108120724105936, 0.10698653376010007]\n",
      "CI Length: 0.08590532651904072\n",
      "CI contains the value of regression coeffision : True\n",
      "\n",
      "Beta - 2\n",
      "CI Quantile by Bootstrap = [ 10.49654917187418, 13.05471144711701]\n",
      "CI Length: 2.558162275242829\n",
      "CI contains the value of regression coeffision : False\n",
      "\n",
      "Beta - 3\n",
      "CI Quantile by Bootstrap = [ -1.382379205647817, 2.473603409116385]\n",
      "CI Length: 3.8559826147642022\n",
      "CI contains the value of regression coeffision : True\n"
     ]
    }
   ],
   "source": [
    "def SE_NormalBootstrap(sub_df, n_bootstraps=400):\n",
    "    beta_bootstraps = []\n",
    "    for i in range(n_bootstraps):\n",
    "        sub_df_boot = sub_df.sample(n=200, replace=True, random_state=i)\n",
    "        X_boot = sub_df_boot[['weight','gender','won']].to_numpy()\n",
    "        y_boot = sub_df_boot['age'].to_numpy()\n",
    "        X_boot = np.concatenate([np.ones((X_boot.shape[0],1),dtype=X_boot.dtype), X_boot], axis=1)\n",
    "        beta_bootstraps.append(np.linalg.pinv(X_boot.T @ X_boot) @ X_boot.T @ y_boot)\n",
    "    return np.array(beta_bootstraps)\n",
    "\n",
    "se_boot = SE_NormalBootstrap(sub_df)\n",
    "l = np.quantile(se_boot, 0.05, axis=0)\n",
    "u = np.quantile(se_boot, 1 - 0.005, axis=0)\n",
    "indices = range(len(beta))\n",
    "for j in indices:\n",
    "    print(f'\\nBeta - {j}')\n",
    "    print(f\"CI Quantile by Bootstrap = [ {l[j]}, {u[j]}]\")\n",
    "    print(f'CI Length: {u[j] - l[j]}')\n",
    "    print(f\"CI contains the value of regression coeffision : {l[j] <= beta[j] <= u[j]}\")"
   ]
  },
  {
   "cell_type": "markdown",
   "id": "b34b31d8",
   "metadata": {},
   "source": [
    "## **Question 3**"
   ]
  },
  {
   "cell_type": "markdown",
   "id": "535966ed",
   "metadata": {},
   "source": [
    "## **3.a**"
   ]
  },
  {
   "cell_type": "code",
   "execution_count": 96,
   "id": "6a2fdee1",
   "metadata": {},
   "outputs": [
    {
     "name": "stdout",
     "output_type": "stream",
     "text": [
      "Y new - Ages prediction for sample of size 100: \n"
     ]
    },
    {
     "data": {
      "text/plain": [
       "array([33.8438449, 32.2002739, 31.4089249, 32.2611469, 33.082912 ,\n",
       "       32.352436 , 33.204658 , 33.5394799, 32.8090039, 33.7220989,\n",
       "       32.5655119, 31.7741629, 34.7569399, 31.4697979, 34.4525749,\n",
       "       32.9307499, 34.2699559, 30.7393219, 34.178626 , 33.7220989,\n",
       "       32.2002739, 32.0176549, 33.7220989, 32.9307499, 33.6612259,\n",
       "       32.9916229, 32.0785279, 33.752515 , 33.7220989, 33.9655909,\n",
       "       32.3220199, 33.509023 , 32.8698769, 31.2263059, 34.909102 ,\n",
       "       33.1133689, 32.1394009, 34.530314 , 32.2611469, 31.4697979,\n",
       "       31.9567819, 32.595928 , 32.413309 , 31.6524169, 33.4177339,\n",
       "       32.6263849, 31.4697979, 32.7481309, 32.1394009, 34.1482099,\n",
       "       32.2002739, 33.2351149, 31.7132899, 31.8350359, 34.5743209,\n",
       "       32.291563 , 33.5394799, 32.6263849, 32.5655119, 31.5915439,\n",
       "       31.8959089, 32.5046389, 32.1394009, 30.9828139, 32.413309 ,\n",
       "       31.6524169, 32.5046389, 32.0176549, 32.9307499, 31.3480519,\n",
       "       32.0176549, 32.4437659, 32.5655119, 32.2002739, 33.2959879,\n",
       "       32.4437659, 31.4089249, 33.2959879, 31.5306709, 32.0785279,\n",
       "       31.7741629, 31.2263059, 32.2002739, 32.2002739, 32.8090039,\n",
       "       32.2611469, 32.778547 , 32.1394009, 32.1394009, 31.7132899,\n",
       "       33.022039 , 32.8698769, 33.143785 , 31.5915439, 31.8959089,\n",
       "       32.3220199, 34.239499 , 31.4089249, 33.1742419, 33.0524959])"
      ]
     },
     "execution_count": 96,
     "metadata": {},
     "output_type": "execute_result"
    }
   ],
   "source": [
    "subtracted_df = df.drop(sub_df.index)[['weight', 'gender', 'won','age']]\n",
    "sub_df_new = subtracted_df.sample(n=100,random_state=42)\n",
    "X_new = sub_df_new[['weight','gender','won']].to_numpy()\n",
    "y_new = sub_df_new[['age']].to_numpy()\n",
    "X_new = np.concatenate([np.ones((X_new.shape[0],1),dtype=X_new.dtype), X_new], axis=1)\n",
    "y_new_pred = X_new @ beta\n",
    "print(f\"Y new - Ages prediction for sample of size 100: \")\n",
    "y_new_pred"
   ]
  },
  {
   "cell_type": "markdown",
   "id": "98a7a33f",
   "metadata": {},
   "source": [
    "### **3.b + 3.c**"
   ]
  },
  {
   "cell_type": "code",
   "execution_count": 97,
   "id": "eef54afc",
   "metadata": {},
   "outputs": [
    {
     "name": "stdout",
     "output_type": "stream",
     "text": [
      "Examine first 5 new samples,the resulted CIs for E [ y_new | X_new ] are - \n",
      "\n",
      "bootstrapCI[0] = [547.9359370985566, 792.7331721983198]\n",
      "bootstrapCI[1] = [388.01628712673175, 571.931064471052]\n",
      "bootstrapCI[2] = [302.56620046692717, 474.7832679058889]\n",
      "bootstrapCI[3] = [399.39968386459566, 574.8210421168634]\n",
      "bootstrapCI[4] = [428.22840692219864, 600.8482529284596]\n",
      "\n",
      "The proportion of times y is within the CI is 0.95 %\n"
     ]
    }
   ],
   "source": [
    "def bootstrap_3(X_new):\n",
    "    bootstrap_new_predicted = []\n",
    "    for i in range(400):\n",
    "        sub_df_boot = sub_df_new.sample(n=200, replace=True)\n",
    "        X_boot = sub_df_boot[['weight','gender','won']].to_numpy()\n",
    "        y_boot = sub_df_boot['age'].to_numpy()\n",
    "        X_boot = np.concatenate([np.ones((X_boot.shape[0],1),dtype=X_boot.dtype), X_boot], axis=1)\n",
    "        boot_beta = np.linalg.pinv(X_boot.T @ X_boot) @ X_boot.T @ y_boot\n",
    "        y_new_hat_boot = np.matmul(X_new, boot_beta)\n",
    "        bootstrap_new_predicted.append(y_new_hat_boot)\n",
    "    \n",
    "    return np.array(bootstrap_new_predicted)\n",
    "\n",
    "bootstrap_y_news_hat = bootstrap_3(sub_df_new)\n",
    "bootstrapCI_lower = np.quantile(bootstrap_y_news_hat, 0.025, axis=0) \n",
    "bootstrapCI_upper = np.quantile(bootstrap_y_news_hat, 0.975, axis=0)\n",
    "print('Examine first 5 new samples,the resulted CIs for E [ y_new | X_new ] are - \\n')\n",
    "for i in range(5):\n",
    "    print(f\"bootstrapCI[{i}] = [{bootstrapCI_lower[i]}, {bootstrapCI_upper[i]}]\")\n",
    "\n",
    "y_in_CI = np.mean(np.logical_and(bootstrapCI_lower <= bootstrap_y_news_hat,\n",
    "                                                 bootstrap_y_news_hat <= bootstrapCI_upper))\n",
    "\n",
    "print(f\"\\nThe proportion of times y is within the CI is {y_in_CI} %\")"
   ]
  },
  {
   "cell_type": "markdown",
   "id": "99e73d2a",
   "metadata": {},
   "source": [
    "### 3.d\n",
    "\n",
    "Bootstrap approximation for variance y_new by variance of bootstrap std of $\\hat{y_{new}}$.\n",
    "\n",
    "Approximate epsilon - $\\hat{\\sigma_{\\epsilon}^2}$\n",
    "\n",
    "Linear Regression Model Assumption -\n",
    "$y_i = {\\beta^*}^T X_i + \\epsilon_i = \\hat{y_i} + \\epsilon_i$. \n",
    "\n",
    "As we saw in class turorial, increasing the CI length can be constructed by adding the estimator to data variance to the regression model.\n",
    "Hence, for the construction of the CI based on the Boostrap procedure with total of B bootstrap steps, in each sample do:\n",
    "first, $\\hat{\\beta}$, $\\hat{y_{new}}$ then calculate the residuals.\n",
    "forword,  compute the variance of the calculated residuals,and let the last be the appromixation of $\\hat{\\sigma_{\\epsilon_{new}}^2}$.\n",
    "We will end up with the CI of : \n",
    " $\\hat{y_{new}} \\pm Z_{\\alpha/2}\\cdot \\sqrt{Var(\\hat{y_{new}}+\\hat{\\sigma_{\\epsilon_{new}}^2})}$   "
   ]
  },
  {
   "cell_type": "markdown",
   "id": "fc7c448e",
   "metadata": {
    "jupyter": {
     "outputs_hidden": true
    }
   },
   "source": [
    "# **Part B**\n",
    "\n",
    " Q2.1 **נבדוק האם יש קשר בין האופן בו מתפלג הגובה בין ספורטאים ממין אישה וספורטאים גברים. כלומר, האם ערכי ההתפלגות עבור גובהן של גברים גבוה מאלו של גברים?**"
   ]
  },
  {
   "cell_type": "markdown",
   "id": "82aeed11",
   "metadata": {
    "jupyter": {
     "outputs_hidden": true
    }
   },
   "source": [
    "**Q2.2**"
   ]
  },
  {
   "cell_type": "code",
   "execution_count": 98,
   "id": "71de7ff1",
   "metadata": {
    "collapsed": true,
    "jupyter": {
     "outputs_hidden": true
    }
   },
   "outputs": [],
   "source": [
    "import warnings\n",
    "warnings.filterwarnings('ignore')\n",
    "from statsmodels.graphics.gofplots import qqplot\n",
    "from IPython.display import display\n",
    "import numpy as np # linear algebra\n",
    "import pandas as pd # data processing, CSV file I/O (e.g. pd.read_csv)\n",
    "import seaborn as sns\n",
    "import matplotlib.pyplot as plt\n",
    "import scipy.stats as st\n",
    "from scipy.stats import norm\n",
    "import math\n",
    "import random\n",
    "import numpy as np\n",
    "import pandas as pd\n",
    "import scipy.stats as stat\n",
    "import warnings\n",
    "from datetime import datetime, date\n",
    "from matplotlib import pyplot as plt\n",
    "import seaborn as sns\n",
    "import statsmodels.api as sm\n",
    "from statsmodels.graphics.gofplots import qqplot\n",
    "import pylab"
   ]
  },
  {
   "cell_type": "code",
   "execution_count": 99,
   "id": "5ff306d9",
   "metadata": {
    "collapsed": true,
    "jupyter": {
     "outputs_hidden": true
    }
   },
   "outputs": [
    {
     "data": {
      "text/html": [
       "<div>\n",
       "<style scoped>\n",
       "    .dataframe tbody tr th:only-of-type {\n",
       "        vertical-align: middle;\n",
       "    }\n",
       "\n",
       "    .dataframe tbody tr th {\n",
       "        vertical-align: top;\n",
       "    }\n",
       "\n",
       "    .dataframe thead th {\n",
       "        text-align: right;\n",
       "    }\n",
       "</style>\n",
       "<table border=\"1\" class=\"dataframe\">\n",
       "  <thead>\n",
       "    <tr style=\"text-align: right;\">\n",
       "      <th></th>\n",
       "      <th>index</th>\n",
       "      <th>id</th>\n",
       "      <th>name</th>\n",
       "      <th>nationality</th>\n",
       "      <th>sex</th>\n",
       "      <th>dob</th>\n",
       "      <th>height</th>\n",
       "      <th>weight</th>\n",
       "      <th>sport</th>\n",
       "      <th>gold</th>\n",
       "      <th>silver</th>\n",
       "      <th>bronze</th>\n",
       "      <th>country</th>\n",
       "      <th>population</th>\n",
       "      <th>gdp_per_capita</th>\n",
       "      <th>won_any_medal</th>\n",
       "    </tr>\n",
       "  </thead>\n",
       "  <tbody>\n",
       "    <tr>\n",
       "      <th>0</th>\n",
       "      <td>1980</td>\n",
       "      <td>153689574</td>\n",
       "      <td>Richelle Stephens</td>\n",
       "      <td>USA</td>\n",
       "      <td>1</td>\n",
       "      <td>1996-07-22</td>\n",
       "      <td>1.68</td>\n",
       "      <td>65.0</td>\n",
       "      <td>rugby sevens</td>\n",
       "      <td>0</td>\n",
       "      <td>0</td>\n",
       "      <td>0</td>\n",
       "      <td>United States</td>\n",
       "      <td>3.214188e+08</td>\n",
       "      <td>56115.718426</td>\n",
       "      <td>0</td>\n",
       "    </tr>\n",
       "    <tr>\n",
       "      <th>1</th>\n",
       "      <td>5544</td>\n",
       "      <td>722113054</td>\n",
       "      <td>Roberti Kobliashvili</td>\n",
       "      <td>GEO</td>\n",
       "      <td>0</td>\n",
       "      <td>1993-12-06</td>\n",
       "      <td>1.80</td>\n",
       "      <td>85.0</td>\n",
       "      <td>wrestling</td>\n",
       "      <td>0</td>\n",
       "      <td>0</td>\n",
       "      <td>0</td>\n",
       "      <td>Georgia</td>\n",
       "      <td>3.679000e+06</td>\n",
       "      <td>3795.973308</td>\n",
       "      <td>0</td>\n",
       "    </tr>\n",
       "    <tr>\n",
       "      <th>2</th>\n",
       "      <td>7575</td>\n",
       "      <td>89640785</td>\n",
       "      <td>Chao Xu</td>\n",
       "      <td>CHN</td>\n",
       "      <td>0</td>\n",
       "      <td>1994-11-05</td>\n",
       "      <td>1.85</td>\n",
       "      <td>82.0</td>\n",
       "      <td>cycling</td>\n",
       "      <td>0</td>\n",
       "      <td>0</td>\n",
       "      <td>0</td>\n",
       "      <td>China</td>\n",
       "      <td>1.371220e+09</td>\n",
       "      <td>8027.683810</td>\n",
       "      <td>0</td>\n",
       "    </tr>\n",
       "    <tr>\n",
       "      <th>3</th>\n",
       "      <td>4723</td>\n",
       "      <td>979280840</td>\n",
       "      <td>Mariya Dmitriyenko</td>\n",
       "      <td>KAZ</td>\n",
       "      <td>1</td>\n",
       "      <td>1988-03-24</td>\n",
       "      <td>1.67</td>\n",
       "      <td>56.0</td>\n",
       "      <td>shooting</td>\n",
       "      <td>0</td>\n",
       "      <td>0</td>\n",
       "      <td>0</td>\n",
       "      <td>Kazakhstan</td>\n",
       "      <td>1.754413e+07</td>\n",
       "      <td>10509.981070</td>\n",
       "      <td>0</td>\n",
       "    </tr>\n",
       "    <tr>\n",
       "      <th>4</th>\n",
       "      <td>10744</td>\n",
       "      <td>973792476</td>\n",
       "      <td>Wilfried Bingangoye</td>\n",
       "      <td>GAB</td>\n",
       "      <td>0</td>\n",
       "      <td>1985-03-25</td>\n",
       "      <td>1.72</td>\n",
       "      <td>80.0</td>\n",
       "      <td>athletics</td>\n",
       "      <td>0</td>\n",
       "      <td>0</td>\n",
       "      <td>0</td>\n",
       "      <td>Gabon</td>\n",
       "      <td>1.725292e+06</td>\n",
       "      <td>8266.445605</td>\n",
       "      <td>0</td>\n",
       "    </tr>\n",
       "    <tr>\n",
       "      <th>...</th>\n",
       "      <td>...</td>\n",
       "      <td>...</td>\n",
       "      <td>...</td>\n",
       "      <td>...</td>\n",
       "      <td>...</td>\n",
       "      <td>...</td>\n",
       "      <td>...</td>\n",
       "      <td>...</td>\n",
       "      <td>...</td>\n",
       "      <td>...</td>\n",
       "      <td>...</td>\n",
       "      <td>...</td>\n",
       "      <td>...</td>\n",
       "      <td>...</td>\n",
       "      <td>...</td>\n",
       "      <td>...</td>\n",
       "    </tr>\n",
       "    <tr>\n",
       "      <th>195</th>\n",
       "      <td>5188</td>\n",
       "      <td>427314005</td>\n",
       "      <td>Fernando Saraiva Reis</td>\n",
       "      <td>BRA</td>\n",
       "      <td>0</td>\n",
       "      <td>1990-03-10</td>\n",
       "      <td>1.85</td>\n",
       "      <td>155.0</td>\n",
       "      <td>weightlifting</td>\n",
       "      <td>0</td>\n",
       "      <td>0</td>\n",
       "      <td>0</td>\n",
       "      <td>Brazil</td>\n",
       "      <td>2.078475e+08</td>\n",
       "      <td>8538.589975</td>\n",
       "      <td>0</td>\n",
       "    </tr>\n",
       "    <tr>\n",
       "      <th>196</th>\n",
       "      <td>6479</td>\n",
       "      <td>419664403</td>\n",
       "      <td>Karen Tebar</td>\n",
       "      <td>FRA</td>\n",
       "      <td>1</td>\n",
       "      <td>1964-09-19</td>\n",
       "      <td>1.59</td>\n",
       "      <td>57.0</td>\n",
       "      <td>equestrian</td>\n",
       "      <td>0</td>\n",
       "      <td>0</td>\n",
       "      <td>0</td>\n",
       "      <td>France</td>\n",
       "      <td>6.680838e+07</td>\n",
       "      <td>36205.568102</td>\n",
       "      <td>0</td>\n",
       "    </tr>\n",
       "    <tr>\n",
       "      <th>197</th>\n",
       "      <td>10353</td>\n",
       "      <td>285629214</td>\n",
       "      <td>Shun Xie Teo</td>\n",
       "      <td>SIN</td>\n",
       "      <td>1</td>\n",
       "      <td>1988-09-30</td>\n",
       "      <td>1.68</td>\n",
       "      <td>63.0</td>\n",
       "      <td>shooting</td>\n",
       "      <td>0</td>\n",
       "      <td>0</td>\n",
       "      <td>0</td>\n",
       "      <td>Singapore</td>\n",
       "      <td>5.535002e+06</td>\n",
       "      <td>52888.744672</td>\n",
       "      <td>0</td>\n",
       "    </tr>\n",
       "    <tr>\n",
       "      <th>198</th>\n",
       "      <td>2894</td>\n",
       "      <td>424746712</td>\n",
       "      <td>Omar Hajjami</td>\n",
       "      <td>MAR</td>\n",
       "      <td>0</td>\n",
       "      <td>1990-07-31</td>\n",
       "      <td>1.60</td>\n",
       "      <td>58.0</td>\n",
       "      <td>taekwondo</td>\n",
       "      <td>0</td>\n",
       "      <td>0</td>\n",
       "      <td>0</td>\n",
       "      <td>Morocco</td>\n",
       "      <td>3.437751e+07</td>\n",
       "      <td>2878.201342</td>\n",
       "      <td>0</td>\n",
       "    </tr>\n",
       "    <tr>\n",
       "      <th>199</th>\n",
       "      <td>7674</td>\n",
       "      <td>328126879</td>\n",
       "      <td>Jun Yang</td>\n",
       "      <td>CHN</td>\n",
       "      <td>1</td>\n",
       "      <td>1988-04-28</td>\n",
       "      <td>1.80</td>\n",
       "      <td>69.0</td>\n",
       "      <td>aquatics</td>\n",
       "      <td>0</td>\n",
       "      <td>0</td>\n",
       "      <td>0</td>\n",
       "      <td>China</td>\n",
       "      <td>1.371220e+09</td>\n",
       "      <td>8027.683810</td>\n",
       "      <td>0</td>\n",
       "    </tr>\n",
       "  </tbody>\n",
       "</table>\n",
       "<p>200 rows × 16 columns</p>\n",
       "</div>"
      ],
      "text/plain": [
       "     index         id                   name nationality  sex        dob  \\\n",
       "0     1980  153689574      Richelle Stephens         USA    1 1996-07-22   \n",
       "1     5544  722113054   Roberti Kobliashvili         GEO    0 1993-12-06   \n",
       "2     7575   89640785                Chao Xu         CHN    0 1994-11-05   \n",
       "3     4723  979280840     Mariya Dmitriyenko         KAZ    1 1988-03-24   \n",
       "4    10744  973792476    Wilfried Bingangoye         GAB    0 1985-03-25   \n",
       "..     ...        ...                    ...         ...  ...        ...   \n",
       "195   5188  427314005  Fernando Saraiva Reis         BRA    0 1990-03-10   \n",
       "196   6479  419664403            Karen Tebar         FRA    1 1964-09-19   \n",
       "197  10353  285629214           Shun Xie Teo         SIN    1 1988-09-30   \n",
       "198   2894  424746712           Omar Hajjami         MAR    0 1990-07-31   \n",
       "199   7674  328126879               Jun Yang         CHN    1 1988-04-28   \n",
       "\n",
       "     height  weight          sport  gold  silver  bronze        country  \\\n",
       "0      1.68    65.0   rugby sevens     0       0       0  United States   \n",
       "1      1.80    85.0      wrestling     0       0       0        Georgia   \n",
       "2      1.85    82.0        cycling     0       0       0          China   \n",
       "3      1.67    56.0       shooting     0       0       0     Kazakhstan   \n",
       "4      1.72    80.0      athletics     0       0       0          Gabon   \n",
       "..      ...     ...            ...   ...     ...     ...            ...   \n",
       "195    1.85   155.0  weightlifting     0       0       0         Brazil   \n",
       "196    1.59    57.0     equestrian     0       0       0         France   \n",
       "197    1.68    63.0       shooting     0       0       0      Singapore   \n",
       "198    1.60    58.0      taekwondo     0       0       0        Morocco   \n",
       "199    1.80    69.0       aquatics     0       0       0          China   \n",
       "\n",
       "       population  gdp_per_capita  won_any_medal  \n",
       "0    3.214188e+08    56115.718426              0  \n",
       "1    3.679000e+06     3795.973308              0  \n",
       "2    1.371220e+09     8027.683810              0  \n",
       "3    1.754413e+07    10509.981070              0  \n",
       "4    1.725292e+06     8266.445605              0  \n",
       "..            ...             ...            ...  \n",
       "195  2.078475e+08     8538.589975              0  \n",
       "196  6.680838e+07    36205.568102              0  \n",
       "197  5.535002e+06    52888.744672              0  \n",
       "198  3.437751e+07     2878.201342              0  \n",
       "199  1.371220e+09     8027.683810              0  \n",
       "\n",
       "[200 rows x 16 columns]"
      ]
     },
     "metadata": {},
     "output_type": "display_data"
    }
   ],
   "source": [
    "# Input data files are available in the read-only \"../input/\" directory\n",
    "# For example, running this (by clicking run or pressing Shift+Enter) will list all files under the input directory\n",
    "def won_medal(row):\n",
    "    if row['gold'] == 1:\n",
    "        return 1\n",
    "    if row['silver'] == 1:\n",
    "        return 1\n",
    "    if row['bronze'] == 1:\n",
    "        return 1\n",
    "    return 0\n",
    "\n",
    "import os\n",
    "for dirname, _, filenames in os.walk('/kaggle/input'):\n",
    "    for filename in filenames:\n",
    "        print(os.path.join(dirname, filename))\n",
    "\n",
    "#athlete_data = pd.read_csv(\"./athletes.csv\")\n",
    "#countries = pd.read_csv(\"./countries.csv\")\n",
    "athlete_data = pd.read_csv('/home/tal/Downloads/athletes.csv')\n",
    "countries = pd.read_csv(\"/home/tal/Downloads/countries.csv\")\n",
    "#renaming the \"code\" column in \"countries\" table in order to join the tables later\n",
    "countries.rename(columns={'code':'nationality'}, inplace=True)\n",
    "#joining the table on \"nationality\" column\n",
    "athlete_data = pd.merge(athlete_data, countries,on='nationality')\n",
    "#changing \"sex\" column to binary data\n",
    "athlete_data['sex'] = athlete_data.sex.map(dict(female=1, male=0))\n",
    "#creating a column indicating wether the athlete won any medal\n",
    "athlete_data['won_any_medal'] = athlete_data.apply(lambda row: won_medal(row), axis=1)\n",
    "#converting the \"dob\" column to datetime\n",
    "athlete_data['dob'] = pd.to_datetime(athlete_data.dob)\n",
    "athlete_data['dob'] = athlete_data['dob'].mask(athlete_data['dob'].dt.year > 2016,\n",
    "                                               athlete_data['dob'] - pd.DateOffset(years=100))\n",
    "athlete_data_all = athlete_data\n",
    "athlete_data_all = athlete_data_all.dropna()\n",
    "np.random.seed(20)\n",
    "athlete_data = athlete_data.sample(n=200).reset_index()\n",
    "display(athlete_data)"
   ]
  },
  {
   "cell_type": "markdown",
   "id": "a9e70b80",
   "metadata": {
    "jupyter": {
     "outputs_hidden": true
    }
   },
   "source": [
    "### **Q2.3:**"
   ]
  },
  {
   "cell_type": "code",
   "execution_count": 100,
   "id": "07951351",
   "metadata": {
    "collapsed": true,
    "jupyter": {
     "outputs_hidden": true
    }
   },
   "outputs": [
    {
     "data": {
      "image/png": "[encoded data removed]",
      "text/plain": [
       "<Figure size 1000x400 with 2 Axes>"
      ]
     },
     "metadata": {},
     "output_type": "display_data"
    },
    {
     "data": {
      "image/png": "[encoded data removed]",
      "text/plain": [
       "<Figure size 640x480 with 1 Axes>"
      ]
     },
     "metadata": {},
     "output_type": "display_data"
    },
    {
     "data": {
      "image/png": "[encoded data removed]",
      "text/plain": [
       "<Figure size 640x480 with 1 Axes>"
      ]
     },
     "metadata": {},
     "output_type": "display_data"
    },
    {
     "name": "stdout",
     "output_type": "stream",
     "text": [
      "Mu1 estimator : 1.703, Mu2 estimator : 1.81, delta = 0.107\n"
     ]
    }
   ],
   "source": [
    "#drop na in athelete data\n",
    "athlete_data = athlete_data.dropna()\n",
    "#drop na in sample data\n",
    "sample_data = athlete_data.dropna()\n",
    "sum_woman = 0\n",
    "sum_man = 0\n",
    "count_woman = 0\n",
    "count_man = 0\n",
    "sex_height_df = athlete_data[['sex','id', 'height']].replace({'male': 0, 'female': 1})\n",
    "woman = sex_height_df.loc[sex_height_df[\"sex\"] == 1, :]\n",
    "woman = woman.dropna()\n",
    "womans_height_array = woman['height'].to_numpy()\n",
    "man = sex_height_df.loc[sex_height_df[\"sex\"] == 0, :]\n",
    "man = man.dropna()\n",
    "mans_height_array = man['height'].to_numpy()\n",
    "\n",
    "fig, (ax1, ax2) = plt.subplots(1, 2,figsize=(10,4))\n",
    "\n",
    "man['height'].hist(edgecolor = \"black\", grid = False, bins = 16, ax = ax1)\n",
    "ax1.set_title(\"Height histogram of man\", size = 15, fontweight = \"bold\")\n",
    "ax1.set_xlabel(\"height\")\n",
    "ax1.set_ylabel(\"count\")\n",
    "\n",
    "woman['height'].hist(edgecolor = \"black\", grid = False, bins = 16, ax = ax2, color = \"pink\")\n",
    "ax2.set_title(\"Height histogram of woman\", size = 15, fontweight = \"bold\")\n",
    "ax2.set_xlabel(\"height\")\n",
    "ax2.set_ylabel(\"count\")\n",
    "\n",
    "plt.show()\n",
    "#part a\n",
    "#make QQPLOT of height vs woman\n",
    "won_weights = np.array(athlete_data.loc[athlete_data['sex'] == 0]['weight'], dtype=float)\n",
    "qqplot(won_weights, stat.norm, fit=True, line='s')\n",
    "plt.title('QQplot for normal')\n",
    "plt.show()\n",
    "#make QQplot of height vs man\n",
    "won_weights = np.array(athlete_data.loc[athlete_data['sex'] == 1]['weight'], dtype=float)\n",
    "qqplot(won_weights, stat.norm, fit=True, line='s')\n",
    "plt.title('QQplot for normal')\n",
    "plt.show()\n",
    "height_woman = sample_data.loc[sample_data['sex'] == 1]['height']\n",
    "height_man = sample_data.loc[sample_data['sex'] == 0]['height']\n",
    "mu1_hat = np.mean(womans_height_array)\n",
    "mu2_hat = np.mean(mans_height_array)\n",
    "delta_hat = mu2_hat - mu1_hat\n",
    "print(f'Mu1 estimator : {round(mu1_hat, 3)}, Mu2 estimator : {round(mu2_hat, 3)}, delta = {round(delta_hat, 3)}')"
   ]
  },
  {
   "cell_type": "markdown",
   "id": "c21b6595",
   "metadata": {
    "jupyter": {
     "outputs_hidden": true
    }
   },
   "source": [
    "**אנו רואים כי הגובה מתפלג נורמלית בקירוב בקרב שתי הקטגוריות במדגם של ה-200 דוגמאות ולכן נוכל להניח נורמליות ולהשתמש בממוצע כאומד נראות מרבית עבור התוחלת. האומד לדלתא הוא אומד נראות מירבית כיוון שהוא פונקציה לינארית של שני אומדי נראות מרבית.**"
   ]
  },
  {
   "cell_type": "code",
   "execution_count": 101,
   "id": "977e3492",
   "metadata": {
    "collapsed": true,
    "jupyter": {
     "outputs_hidden": true
    }
   },
   "outputs": [
    {
     "name": "stdout",
     "output_type": "stream",
     "text": [
      "CI for the difference in means on the sample: [0.08146863839573146, 0.13284508709446377]\n"
     ]
    }
   ],
   "source": [
    "#part b\n",
    "var_woman_avg = np.var(womans_height_array)/len(womans_height_array)\n",
    "var_man_avg = np.var(mans_height_array)/len(mans_height_array)\n",
    "se_omed_height = np.sqrt(var_woman_avg + var_man_avg)\n",
    "CI = [delta_hat - 1.96*se_omed_height, delta_hat + 1.96*se_omed_height]\n",
    "print(f'CI for the difference in means on the sample: {CI}')"
   ]
  },
  {
   "cell_type": "code",
   "execution_count": 102,
   "id": "a49f534a",
   "metadata": {
    "collapsed": true,
    "jupyter": {
     "outputs_hidden": true
    }
   },
   "outputs": [
    {
     "name": "stdout",
     "output_type": "stream",
     "text": [
      "Delta estimate based on the full data is : 0.12377410468644956\n",
      "Is delta estimate based on the full data is in the CI? True\n"
     ]
    }
   ],
   "source": [
    "#part c\n",
    "all_woman_heights = athlete_data_all.loc[athlete_data_all['sex'] == 1]['height']\n",
    "all_man_heights = athlete_data_all.loc[athlete_data_all['sex']== 0]['height']\n",
    "mu1_hat_all = np.mean(all_woman_heights)\n",
    "mu2_hat_all = np.mean(all_man_heights)\n",
    "delta_hat_all = mu2_hat_all - mu1_hat_all\n",
    "print(f'Delta estimate based on the full data is : {delta_hat_all}')\n",
    "print(f'Is delta estimate based on the full data is in the CI? {(CI[0] <= delta_hat) and (delta_hat <= CI[1])}')"
   ]
  },
  {
   "cell_type": "markdown",
   "id": "f89e26fb",
   "metadata": {
    "jupyter": {
     "outputs_hidden": true
    }
   },
   "source": [
    "**כלומר, אנו רואים כי האומד לדלתא לפי המדגם השלם נמצא ברווח סמך לדלתא על פי המדגם המצומצם של ה200 דוגמאות**"
   ]
  },
  {
   "cell_type": "code",
   "execution_count": 103,
   "id": "35959ba2",
   "metadata": {
    "collapsed": true,
    "jupyter": {
     "outputs_hidden": true
    }
   },
   "outputs": [
    {
     "name": "stdout",
     "output_type": "stream",
     "text": [
      "Wald test on the sample:\n",
      "In Reject H0 Region, man height is stochastichally larger than womans\n",
      "Permutations test results:\n",
      "In Reject H0 Region, mans height is stochastichally larger than womans\n"
     ]
    }
   ],
   "source": [
    "#part d\n",
    "print(\"Wald test on the sample:\")\n",
    "Z_wald_test = stat.norm.ppf(0.95)\n",
    "w_wald = delta_hat /se_omed_height\n",
    "if w_wald > Z_wald_test:\n",
    "    print(\"In Reject H0 Region, man height is stochastichally larger than womans\")\n",
    "else:\n",
    "    print(\"Not in Reject H0 Region, mans height is not stochastically larger than womans\")\n",
    "\n",
    "print(\"Permutations test results:\")\n",
    "alpha = 0.05\n",
    "woman_sample_len = len(womans_height_array)\n",
    "counter = 0\n",
    "for b in range(400):\n",
    "    df_woman = athlete_data.sample(woman_sample_len)\n",
    "    df_all = athlete_data.merge(df_woman, how='left', indicator=True)\n",
    "    not_in_sampled = df_all[df_all[\"_merge\"] == \"left_only\"]\n",
    "    df_man = not_in_sampled.drop(\"_merge\", axis=1)\n",
    "    mu2_hat_temp = np.mean(df_man['height'])\n",
    "    mu1_hat_temp = np.mean(df_woman['height'])\n",
    "    delta_temp = mu2_hat_temp - mu1_hat_temp\n",
    "    if delta_hat <= delta_temp:\n",
    "        counter += 1\n",
    "\n",
    "test_statistic = counter / 400\n",
    "\n",
    "if test_statistic <= alpha:\n",
    "    print('In Reject H0 Region, mans height is stochastichally larger than womans')\n",
    "\n",
    "else:\n",
    "    print(\"Not in Reject H0 Region, mans height is not stochastically larger than womans\")"
   ]
  },
  {
   "cell_type": "markdown",
   "id": "ac37dbc3",
   "metadata": {
    "jupyter": {
     "outputs_hidden": true
    }
   },
   "source": [
    "### **Q2.4**"
   ]
  },
  {
   "cell_type": "code",
   "execution_count": 104,
   "id": "f6706848",
   "metadata": {
    "collapsed": true,
    "jupyter": {
     "outputs_hidden": true
    }
   },
   "outputs": [
    {
     "name": "stdout",
     "output_type": "stream",
     "text": [
      "Median for winners: 1.68 median for losers: 1.81 delta_hat: 0.13000000000000012\n"
     ]
    }
   ],
   "source": [
    "#Q2.4.1\n",
    "df_woman = athlete_data[athlete_data['sex']==1]\n",
    "m1 =  df_woman['height'].median()\n",
    "df_man = athlete_data[athlete_data['sex']==0]\n",
    "m2 =  df_man['height'].median()\n",
    "delta_hat = abs(m2-m1)\n",
    "woman = df_woman['height'].values\n",
    "man = df_man['height'].values\n",
    "print(f'Median for winners: {m1} median for losers: {m2} delta_hat: {delta_hat}')"
   ]
  },
  {
   "cell_type": "markdown",
   "id": "17f46858",
   "metadata": {
    "jupyter": {
     "outputs_hidden": true
    }
   },
   "source": [
    "**כיוון שהגובה מתפלג נורמלית בקירוב בדאטה, הפרש החציונים הוא אנ\"מ. **"
   ]
  },
  {
   "cell_type": "code",
   "execution_count": 105,
   "id": "adc97718",
   "metadata": {
    "collapsed": true,
    "jupyter": {
     "outputs_hidden": true
    }
   },
   "outputs": [
    {
     "name": "stdout",
     "output_type": "stream",
     "text": [
      "Confidence interval for median delta: (0.10431224767778453, 0.15568775232221568)\n",
      "Delta estimator for all dataset: 0.13000000000000012\n",
      "Is the delta for full dataset in Confidence interval for 200 samples delta : True\n"
     ]
    }
   ],
   "source": [
    "#Q2.4.2\n",
    "z = norm.ppf(1-alpha/2)\n",
    "var_man = np.var(df_man['height']) / len(df_man)\n",
    "var_woman = np.var(df_woman['height']) / len(df_woman['height'])\n",
    "se_omed_heights = np.sqrt(var_man + var_woman)\n",
    "down=delta_hat - z * se_omed_heights\n",
    "up= delta_hat + z * se_omed_heights\n",
    "print(f'Confidence interval for median delta: {(down,up)}')\n",
    "\n",
    "#Q2.4.3\n",
    "df_all_woman = athlete_data_all[athlete_data_all['sex']==1]\n",
    "m1 =  df_all_woman['height'].median()\n",
    "df_all_man = athlete_data_all[athlete_data_all['sex']==0]\n",
    "m2 =  df_all_man['height'].median()\n",
    "delta_hat_all= abs(m2-m1)\n",
    "print(f'Delta estimator for all dataset: {delta_hat}')\n",
    "print(f'Is the delta for full dataset in Confidence interval for 200 samples delta : {(down<delta_hat_all<up)}')"
   ]
  },
  {
   "cell_type": "markdown",
   "id": "5784f7cf",
   "metadata": {
    "jupyter": {
     "outputs_hidden": true
    }
   },
   "source": [
    "**כלומר, האומד שקיבלנו עבור המדגם המלא נמצא ברווח סמך של הדלתא עבור המדגם המצומצם של ה-200 דוגמאות**"
   ]
  },
  {
   "cell_type": "code",
   "execution_count": 106,
   "id": "9d1458f6",
   "metadata": {
    "collapsed": true,
    "jupyter": {
     "outputs_hidden": true
    }
   },
   "outputs": [
    {
     "name": "stdout",
     "output_type": "stream",
     "text": [
      "Permutations test results:\n",
      "In Reject H0 Region, mans height is stochastichally larger than womans\n"
     ]
    }
   ],
   "source": [
    "#Q2.4.4\n",
    "print(\"Permutations test results:\")\n",
    "alpha = 0.05\n",
    "woman_sample_len = len(womans_height_array)\n",
    "counter = 0\n",
    "for b in range(400):\n",
    "    df_woman = athlete_data.sample(woman_sample_len)\n",
    "    df_all = athlete_data.merge(df_woman, how='left', indicator=True)\n",
    "    not_in_sampled = df_all[df_all[\"_merge\"] == \"left_only\"]\n",
    "    df_man = not_in_sampled.drop(\"_merge\", axis=1)\n",
    "    mu2_hat_temp = np.mean(df_man['height'])\n",
    "    mu1_hat_temp = np.mean(df_woman['height'])\n",
    "    delta_temp = mu2_hat_temp - mu1_hat_temp\n",
    "    if  delta_temp >= delta_hat:\n",
    "        counter += 1\n",
    "\n",
    "test_statistic = counter / 400\n",
    "\n",
    "if test_statistic <= alpha:\n",
    "    print('In Reject H0 Region, mans height is stochastichally larger than womans')\n",
    "\n",
    "else:\n",
    "    print(\"Not in Reject H0 Region, mans height is not stochastically larger than womans\")"
   ]
  },
  {
   "cell_type": "markdown",
   "id": "c0bcf106",
   "metadata": {
    "jupyter": {
     "outputs_hidden": true
    }
   },
   "source": [
    "### Q2.4.5"
   ]
  },
  {
   "cell_type": "markdown",
   "id": "5892522b",
   "metadata": {
    "jupyter": {
     "outputs_hidden": true
    }
   },
   "source": [
    "**לא ניתן להשתמש במבחן וואלד. לא נוכל להניח שדלתא כובע מתפלגת אסימפטוטית נורמלית שכן היא הפרש בין חציונים שאין אנו יודעים כיצד הם מתפלגים.**\n",
    "\n",
    "**על מנת להשתמש בטי-טסט אנו צריכים שיתקיימו 4 תנאים:**\n",
    "1. אי תלות בין התצפיות - מתקיים\n",
    "2. נורמליות - הגובה באוכלוסיה מתפלג נורמלית לפי הבדיקה שעשינו לפני כן - מתקיים\n",
    "3. יש להשתמש במדגם גדול דיו (רצוי מעל 30 דגימות) - מתקיים\n",
    "4. שווייון בין השונויות של המדגמים - לא ידוע אם מתקיים.\n",
    "\n",
    "כלומר סה\"כ בהינתן הידע שיש לנו כעת לא נדע האם ניתן להשתמש במבחן טי, יש להשוות שונויות של המדגמים באמצעות מבחנים סטטיסטים על מנת להכריע"
   ]
  },
  {
   "cell_type": "markdown",
   "id": "44aacba3",
   "metadata": {
    "jupyter": {
     "outputs_hidden": true
    }
   },
   "source": [
    "### **Q5**"
   ]
  },
  {
   "cell_type": "code",
   "execution_count": 107,
   "id": "065daec9",
   "metadata": {
    "collapsed": true,
    "jupyter": {
     "outputs_hidden": true
    }
   },
   "outputs": [
    {
     "name": "stdout",
     "output_type": "stream",
     "text": [
      "Normal approx:\n",
      "Test statistic:  -21.494185260204677\n",
      "z_quantile:  1.6448536269514722\n",
      "In Reject H0 Region, mans height is stochastichally larger than womans\n"
     ]
    }
   ],
   "source": [
    "counter=0\n",
    "from scipy.stats import norm\n",
    "#Q2.4.5:\n",
    "print(\"Normal approx:\")\n",
    "sample_heights = sorted(athlete_data_all['height'])\n",
    "def compute_sum_ranks(woman_height, sample_heights):\n",
    "    sum_of_ranks = 0\n",
    "    for i, sample  in enumerate(sample_heights):\n",
    "        if sample in woman_height:\n",
    "            if i < len(sample_heights):\n",
    "                counter = 1\n",
    "                sum = i+1\n",
    "                while (True):\n",
    "                    if sample_heights[i+counter] == sample_heights[i]:\n",
    "                        sum = sum + (i+counter)\n",
    "                        counter = counter+1\n",
    "                    else:\n",
    "                        sum_of_ranks = sum_of_ranks + (sum/counter)\n",
    "                        break\n",
    "                else:\n",
    "                    sum_of_ranks = sum_of_ranks + (i+1)\n",
    "    return sum_of_ranks\n",
    "\n",
    "df_woman = athlete_data[athlete_data['sex'] == 1][\"height\"]\n",
    "sum_ranks = compute_sum_ranks(df_woman, sample_heights)\n",
    "N_full = len(df_woman)+len(df_man)\n",
    "est_mean = len(df_woman) * (N_full + 1) / 2\n",
    "est_variance = (len(df_woman) * len(df_man) * (N_full + 1) / 12)\n",
    "wilcoxon_statistic = (sum_ranks - est_mean) / np.sqrt(est_variance)\n",
    "Z_qua = st.norm.ppf(0.95)\n",
    "print(\"Test statistic: \",wilcoxon_statistic )\n",
    "print(\"z_quantile: \", Z_qua)\n",
    "if wilcoxon_statistic < Z_qua:\n",
    "      print('In Reject H0 Region, mans height is stochastichally larger than womans')\n",
    "else:\n",
    "    print(\"Not in Reject H0 Region, mans height is not stochastically larger than womans\")"
   ]
  },
  {
   "cell_type": "markdown",
   "id": "b6f301d6",
   "metadata": {
    "jupyter": {
     "outputs_hidden": true
    }
   },
   "source": [
    "### Q6\n",
    "\n",
    "**הראינו באופן עקבי כי התפלגות הגובה בקרב הגברים גבוה מהתפלגות הגובה בקרב הגברים. הצלחנו לדחות את השערת האפס במבחנים שלנו ולכן נוכל להגיד כי ההשערה החלופית שלנו נכונה.**"
   ]
  },
  {
   "cell_type": "code",
   "execution_count": null,
   "id": "518ee9d0-77cb-4f41-b445-4fd34be52e42",
   "metadata": {},
   "outputs": [],
   "source": []
  },
  {
   "cell_type": "code",
   "execution_count": null,
   "id": "510e6909-ed39-447c-8e75-6a20e97248fb",
   "metadata": {},
   "outputs": [],
   "source": []
  },
  {
   "cell_type": "code",
   "execution_count": null,
   "id": "53165a88-ba5c-42ca-b6c9-67da63e31d19",
   "metadata": {},
   "outputs": [],
   "source": []
  },
  {
   "cell_type": "code",
   "execution_count": 1,
   "id": "34388ade-1d11-4e3b-979d-b118b413872d",
   "metadata": {},
   "outputs": [],
   "source": [
    "import pandas"
   ]
  },
  {
   "cell_type": "code",
   "execution_count": 3,
   "id": "2d867d25-eb7d-4bd1-8c85-b9588d17b65f",
   "metadata": {},
   "outputs": [],
   "source": [
    "a = pandas.DataFrame({'a':[1,2,3]})\n",
    "b = pandas.DataFrame({'b':[1,4,5,8,1]})"
   ]
  },
  {
   "cell_type": "code",
   "execution_count": 5,
   "id": "f588f36a-b8d0-4bde-9361-f064d76ba6e9",
   "metadata": {},
   "outputs": [
    {
     "data": {
      "text/plain": [
       "{2, 3, 4, 5}"
      ]
     },
     "execution_count": 5,
     "metadata": {},
     "output_type": "execute_result"
    }
   ],
   "source": [
    "set(a['a'])  set(b['b'])"
   ]
  },
  {
   "cell_type": "code",
   "execution_count": null,
   "id": "6c969c2f-5c83-4816-855c-df4b49c2edb0",
   "metadata": {},
   "outputs": [],
   "source": []
  }
 ],
 "metadata": {
  "kernelspec": {
   "display_name": "pytorch",
   "language": "python",
   "name": "pytorch"
  },
  "language_info": {
   "codemirror_mode": {
    "name": "ipython",
    "version": 3
   },
   "file_extension": ".py",
   "mimetype": "text/x-python",
   "name": "python",
   "nbconvert_exporter": "python",
   "pygments_lexer": "ipython3",
   "version": "3.10.8"
  }
 },
 "nbformat": 4,
 "nbformat_minor": 5
}
