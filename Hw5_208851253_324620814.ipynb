{
 "cells": [
  {
   "cell_type": "code",
   "execution_count": 14,
   "id": "c8610030",
   "metadata": {},
   "outputs": [],
   "source": [
    "import pandas as pd\n",
    "import numpy as np\n",
    "import scipy.stats as st\n",
    "import matplotlib"
   ]
  },
  {
   "cell_type": "code",
   "execution_count": 15,
   "id": "43c270fa",
   "metadata": {
    "tags": []
   },
   "outputs": [],
   "source": [
    "styles = [\n",
    "    dict(selector=\"tr:hover\",\n",
    "                props=[(\"background\", \"#F1E189\"), ('format',\"{:.3%}\")]),\n",
    "    dict(selector=\"th\", props=[(\"color\", \"#7B2869\"),\n",
    "                               (\"border\", \"3px solid #7B2869\"),\n",
    "                               (\"padding\", \"13px 35px\"),\n",
    "                               (\"border-collapse\", \"collapse\"),\n",
    "                               (\"background\", \"#F9C5D5\"),\n",
    "                               (\"font-size\", \"18px\"),\n",
    "                               (\"font-family\" , 'system-ui'),\n",
    "                               ('text-align', 'center'),\n",
    "                               ('font-weight','bold')\n",
    "                               ]),\n",
    "    dict(selector=\"td\", props=[(\"color\", \"#9D3C72\"),\n",
    "                               (\"border\", \"3px solid #7B2869\"),\n",
    "                               (\"padding\", \"35px 55px\"),\n",
    "                               (\"border-collapse\", \"collapse\"),\n",
    "                               (\"font-size\", \"15px\"),\n",
    "                               (\"font-family\" , 'system-ui'),\n",
    "                               ('text-align', 'center'),\n",
    "                               (\"background\", \"#FEE3EC\"),\n",
    "                               ('Quantity',\"{:.3%}\"),\n",
    "                               ('font-weight','bold')\n",
    "                               ]),\n",
    "    dict(selector=\"table\", props=[\n",
    "                                    (\"font-family\" , 'system-ui'),\n",
    "                                    (\"margin\" , \"25px auto\"),\n",
    "                                    (\"border-collapse\" , \"collapse\"),\n",
    "                                    (\"border\" , \"1px solid #9DE3D0\"),\n",
    "                                    (\"border-bottom\" , \"2px solid #00cccc\"),\n",
    "                                    ('Quantity',\"{:.3%}\")\n",
    "                                      ]),\n",
    "]"
   ]
  },
  {
   "cell_type": "code",
   "execution_count": 16,
   "id": "61972cc0",
   "metadata": {},
   "outputs": [],
   "source": [
    "ex5 = pd.read_csv('ex5.csv')"
   ]
  },
  {
   "cell_type": "code",
   "execution_count": 17,
   "id": "f75aca5d",
   "metadata": {},
   "outputs": [],
   "source": [
    "def plugIn(dataFrame):\n",
    "    X = dataFrame['GPA'].to_numpy()\n",
    "    Y = dataFrame['LSAT'].to_numpy()\n",
    "    x_mean = X.mean()\n",
    "    y_mean = Y.mean()\n",
    "    n = X.shape[0]\n",
    "\n",
    "    nom = (X - x_mean) * (Y-y_mean) \n",
    "    nom = np.sum(nom)\n",
    "    dnom_x = np.sum((X - x_mean) ** 2) \n",
    "    dnom_y = np.sum((Y-y_mean) ** 2)\n",
    "    dnom = np.sqrt(dnom_x * dnom_y)\n",
    "    plugiIn_estimator = nom/dnom\n",
    "    return plugiIn_estimator"
   ]
  },
  {
   "cell_type": "code",
   "execution_count": 19,
   "id": "4febbf5b",
   "metadata": {},
   "outputs": [
    {
     "name": "stdout",
     "output_type": "stream",
     "text": [
      "Plug-In Estimator for x,y correlation is 0.776374491289407\n"
     ]
    }
   ],
   "source": [
    "plugIn_estimator = plugIn(ex5)\n",
    "print(f'Plug-In Estimator for x,y correlation is {plugIn_estimator}')"
   ]
  },
  {
   "cell_type": "code",
   "execution_count": 20,
   "id": "10858b4e",
   "metadata": {},
   "outputs": [
    {
     "name": "stdout",
     "output_type": "stream",
     "text": [
      "SE for Plug-In Estimator is 0.13679037099722638\n"
     ]
    }
   ],
   "source": [
    "B = 1000\n",
    "corr_plugIn = []\n",
    "for b in range(B):\n",
    "    sample = ex5.sample(frac=1,replace=True)\n",
    "    corr_plugIn.append(plugIn(sample))\n",
    "boostrap_se = np.std(corr_plugIn)\n",
    "print(f'SE for Plug-In Estimator is {boostrap_se}')"
   ]
  },
  {
   "cell_type": "code",
   "execution_count": 22,
   "id": "839ccad7",
   "metadata": {},
   "outputs": [
    {
     "data": {
      "text/html": [
       "<style type=\"text/css\">\n",
       "#T_6fc4d tr:hover {\n",
       "  background: #F1E189;\n",
       "  format: {:.3%};\n",
       "}\n",
       "#T_6fc4d th {\n",
       "  color: #7B2869;\n",
       "  border: 3px solid #7B2869;\n",
       "  padding: 13px 35px;\n",
       "  border-collapse: collapse;\n",
       "  background: #F9C5D5;\n",
       "  font-size: 18px;\n",
       "  font-family: system-ui;\n",
       "  text-align: center;\n",
       "  font-weight: bold;\n",
       "}\n",
       "#T_6fc4d td {\n",
       "  color: #9D3C72;\n",
       "  border: 3px solid #7B2869;\n",
       "  padding: 35px 55px;\n",
       "  border-collapse: collapse;\n",
       "  font-size: 15px;\n",
       "  font-family: system-ui;\n",
       "  text-align: center;\n",
       "  background: #FEE3EC;\n",
       "  Quantity: {:.3%};\n",
       "  font-weight: bold;\n",
       "}\n",
       "#T_6fc4d table {\n",
       "  font-family: system-ui;\n",
       "  margin: 25px auto;\n",
       "  border-collapse: collapse;\n",
       "  border: 1px solid #9DE3D0;\n",
       "  border-bottom: 2px solid #00cccc;\n",
       "  Quantity: {:.3%};\n",
       "}\n",
       "</style>\n",
       "<table id=\"T_6fc4d\">\n",
       "  <thead>\n",
       "    <tr>\n",
       "      <th class=\"index_name level0\" >CI Type</th>\n",
       "      <th class=\"blank col0\" >&nbsp;</th>\n",
       "      <th class=\"blank col1\" >&nbsp;</th>\n",
       "    </tr>\n",
       "  </thead>\n",
       "  <tbody>\n",
       "    <tr>\n",
       "      <th id=\"T_6fc4d_level0_row0\" class=\"row_heading level0 row0\" >Nornal Appromixation</th>\n",
       "      <td id=\"T_6fc4d_row0_col0\" class=\"data row0 col0\" >[ plugIn_estimator - qnorm * Boostrap SE , plugiIn_estimator + qnorm * Boostrap SE ]</td>\n",
       "      <td id=\"T_6fc4d_row0_col1\" class=\"data row0 col1\" >[0.508270290702971, 1.044478691875843]</td>\n",
       "    </tr>\n",
       "    <tr>\n",
       "      <th id=\"T_6fc4d_level0_row1\" class=\"row_heading level0 row1\" >Pivotal</th>\n",
       "      <td id=\"T_6fc4d_row1_col0\" class=\"data row1 col0\" >[ plugIn_estimator * 2 - upper_quantile , plugiIn_estimator * 2 + lower_quantile ]</td>\n",
       "      <td id=\"T_6fc4d_row1_col1\" class=\"data row1 col1\" >[0.5860367633107508, 2.0017510569280383]</td>\n",
       "    </tr>\n",
       "    <tr>\n",
       "      <th id=\"T_6fc4d_level0_row2\" class=\"row_heading level0 row2\" >Quantile</th>\n",
       "      <td id=\"T_6fc4d_row2_col0\" class=\"data row2 col0\" >[ lower_quantile , upper_quantile ]</td>\n",
       "      <td id=\"T_6fc4d_row2_col1\" class=\"data row2 col1\" >[0.4490020743492243, 0.9667122192680633]</td>\n",
       "    </tr>\n",
       "  </tbody>\n",
       "</table>\n"
      ],
      "text/plain": [
       "<pandas.io.formats.style.Styler at 0x7fa2a6df5a50>"
      ]
     },
     "execution_count": 22,
     "metadata": {},
     "output_type": "execute_result"
    }
   ],
   "source": [
    "qnorm = st.norm.ppf(0.975)\n",
    "gap = qnorm * boostrap_se\n",
    "CI_normal = [plugIn_estimator - gap, plugIn_estimator + gap]\n",
    "\n",
    "lower_bound = np.quantile(corr_plugIn, 0.025)\n",
    "upper_bound = np.quantile(corr_plugIn, 0.975)\n",
    "CI_pivotal = [plugIn_estimator * 2 - upper_bound, plugIn_estimator * 2 + lower_bound]\n",
    "\n",
    "CI_quantile = [lower_bound,upper_bound]\n",
    "\n",
    "strs= [f\"[ plugIn_estimator - qnorm * Boostrap SE ,\"\n",
    "       f\" plugiIn_estimator + qnorm * Boostrap SE ]\",\n",
    "       f\"[ plugIn_estimator * 2 - upper_quantile ,\"\n",
    "       f\" plugiIn_estimator * 2 + lower_quantile ]\",\n",
    "          '[ lower_quantile , upper_quantile ]']\n",
    "\n",
    "CI_df = pd.DataFrame.from_dict({\"CI Type\":['Nornal Appromixation','Pivotal','Quantile'],'_':strs,\"\":[CI_normal,CI_pivotal,CI_quantile]}).set_index('CI Type')\n",
    "\n",
    "\n",
    "\n",
    "CI_df.style.set_table_styles(styles).hide(axis='columns')"
   ]
  },
  {
   "cell_type": "code",
   "execution_count": null,
   "id": "3e05c3ca-8ae1-41c9-96b2-75231fe3f5cb",
   "metadata": {},
   "outputs": [],
   "source": []
  },
  {
   "cell_type": "code",
   "execution_count": null,
   "id": "1b1fe05f-e3d7-407e-94cb-eeccb1643fe2",
   "metadata": {},
   "outputs": [],
   "source": []
  }
 ],
 "metadata": {
  "kernelspec": {
   "display_name": "pytorch",
   "language": "python",
   "name": "pytorch"
  },
  "language_info": {
   "codemirror_mode": {
    "name": "ipython",
    "version": 3
   },
   "file_extension": ".py",
   "mimetype": "text/x-python",
   "name": "python",
   "nbconvert_exporter": "python",
   "pygments_lexer": "ipython3",
   "version": "3.10.8"
  }
 },
 "nbformat": 4,
 "nbformat_minor": 5
}
