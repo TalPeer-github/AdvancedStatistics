{
 "cells": [
  {
   "cell_type": "code",
   "execution_count": 1,
   "id": "bbd4f0a8",
   "metadata": {},
   "outputs": [],
   "source": [
    "import numpy as np\n",
    "import pandas as pd\n",
    "import matplotlib.pyplot as plt\n",
    "import scipy.stats as stats\n",
    "import sklearn\n",
    "import statsmodels.api as sm"
   ]
  },
  {
   "cell_type": "code",
   "execution_count": 2,
   "id": "9873a0aa",
   "metadata": {},
   "outputs": [],
   "source": [
    "data = pd.read_csv('ex4stats.csv')"
   ]
  },
  {
   "cell_type": "code",
   "execution_count": 3,
   "id": "d06ef2a8",
   "metadata": {},
   "outputs": [],
   "source": [
    "def estimate_b(y,x):\n",
    "    reg = sm.Logit(y,x).fit()\n",
    "    b_hat = reg.params\n",
    "    return b_hat"
   ]
  },
  {
   "cell_type": "code",
   "execution_count": 4,
   "id": "b2c683ea",
   "metadata": {},
   "outputs": [],
   "source": [
    "def log_likelihood(b_hat,x,y):\n",
    "    ll_value = 0\n",
    "    for i,row in enumerate(x):\n",
    "        odds = np.matmul(b_hat.T, x[i,:])\n",
    "        p = np.exp(odds)\n",
    "        ll_value += y[i]*odds - np.log(1+p)\n",
    "    return ll_value"
   ]
  },
  {
   "cell_type": "code",
   "execution_count": 5,
   "id": "8dedc5f8",
   "metadata": {},
   "outputs": [],
   "source": [
    "def calc_estimator_variance(b_hat,x):\n",
    "    v = np.eye(x.shape[0],x.shape[0])\n",
    "    for i,row in enumerate(x):\n",
    "        pi = chd_expected_value(row,b_hat)\n",
    "        v[i,i] = pi * (1-pi)\n",
    "    mat = np.matmul(x.T,np.matmul(v,x))\n",
    "    var_b =  np.linalg.inv(mat)\n",
    "    return var_b"
   ]
  },
  {
   "cell_type": "code",
   "execution_count": 6,
   "id": "af091637",
   "metadata": {},
   "outputs": [],
   "source": [
    "def calc_p(value):\n",
    "    m = np.exp(value)\n",
    "    pi = m / (1+m)\n",
    "    return pi"
   ]
  },
  {
   "cell_type": "code",
   "execution_count": 7,
   "id": "002a87c6",
   "metadata": {},
   "outputs": [],
   "source": [
    "def chd_expected_value(observation, b_hat):\n",
    "    value = np.matmul(b_hat.T,observation)\n",
    "    pi = calc_p(value)\n",
    "    return pi"
   ]
  },
  {
   "cell_type": "code",
   "execution_count": 8,
   "id": "a147c067",
   "metadata": {},
   "outputs": [],
   "source": [
    "def chd_expected_value_CI(x_new,y_new,var_b):\n",
    "    value = np.matmul(x_new.T,np.matmul(var_b,x_new)) \n",
    "    interval = stats.norm.ppf(0.975)*((value)**0.5)\n",
    "    CI = [calc_p(y_new - interval) , calc_p(y_new + interval)]\n",
    "    return CI"
   ]
  },
  {
   "cell_type": "code",
   "execution_count": 9,
   "id": "840c91b6",
   "metadata": {},
   "outputs": [],
   "source": [
    "def Q6():\n",
    "    y = data['chd'].to_numpy()\n",
    "    x_mat = data.loc[:,['BMI','alcohol','age']].to_numpy()\n",
    "    x = np.c_[np.ones(x_mat.shape[0]), x_mat]\n",
    "    observation = np.array([1,27,8,50])\n",
    "    pd.set_option('display.max_colwidth',None)\n",
    "    title = ['Logistic Regression Model Equation', 'Beta Estimator','Log Likelihood Value for Beta Estimator', 'Variance of Beta Estimator','Forecast for Expected Value of new observation','CI for Expected Value Forecast of new observation']\n",
    "    Question_Part = ['Question 6.a','Question 6.b','Question 6.c','Question 6.d','Question 6.e','Question 6.f']\n",
    "    \n",
    "    logistic_regression = f'y = e ^ (b0 + x1 * b_age + x2 * b_obesity + x3 * b_alcohol) / ( 1 + e ^ (b0 + x1 * b_age + x2 * b_obesity + x3 * b_alcohol))'\n",
    "    b_hat = estimate_b(y,x)\n",
    "    log_likelihood_value = log_likelihood(b_hat,x,y)\n",
    "    b_hat_variance = calc_estimator_variance(b_hat,x)\n",
    "    observation_forecast = chd_expected_value(observation, b_hat)\n",
    "    observation_forecast_CI = chd_expected_value_CI(observation,observation_forecast,b_hat_variance)\n",
    "    results = [logistic_regression,b_hat.round(5),log_likelihood_value,b_hat_variance.round(5),observation_forecast,observation_forecast_CI]\n",
    "    answers = pd.DataFrame({'Question Part':Question_Part,'Required Value':title,'Result':results})\n",
    "    answers = answers.set_index(['Question Part','Required Value'])\n",
    "    \n",
    "    display(answers)\n"
   ]
  },
  {
   "cell_type": "code",
   "execution_count": 10,
   "id": "70d244c7",
   "metadata": {},
   "outputs": [
    {
     "name": "stdout",
     "output_type": "stream",
     "text": [
      "Optimization terminated successfully.\n",
      "         Current function value: 0.401595\n",
      "         Iterations 8\n"
     ]
    },
    {
     "ename": "NameError",
     "evalue": "name 'logistic_regression' is not defined",
     "output_type": "error",
     "traceback": [
      "\u001b[0;31m---------------------------------------------------------------------------\u001b[0m",
      "\u001b[0;31mNameError\u001b[0m                                 Traceback (most recent call last)",
      "Cell \u001b[0;32mIn[10], line 1\u001b[0m\n\u001b[0;32m----> 1\u001b[0m \u001b[43mQ6\u001b[49m\u001b[43m(\u001b[49m\u001b[43m)\u001b[49m\n",
      "Cell \u001b[0;32mIn[9], line 16\u001b[0m, in \u001b[0;36mQ6\u001b[0;34m()\u001b[0m\n\u001b[1;32m     14\u001b[0m observation_forecast \u001b[38;5;241m=\u001b[39m chd_expected_value(observation, b_hat)\n\u001b[1;32m     15\u001b[0m observation_forecast_CI \u001b[38;5;241m=\u001b[39m chd_expected_value_CI(observation,observation_forecast,b_hat_variance)\n\u001b[0;32m---> 16\u001b[0m results \u001b[38;5;241m=\u001b[39m [\u001b[43mlogistic_regression\u001b[49m,b_hat\u001b[38;5;241m.\u001b[39mround(\u001b[38;5;241m5\u001b[39m),log_likelihood_value,b_hat_variance\u001b[38;5;241m.\u001b[39mround(\u001b[38;5;241m5\u001b[39m),observation_forecast,observation_forecast_CI]\n\u001b[1;32m     17\u001b[0m answers \u001b[38;5;241m=\u001b[39m pd\u001b[38;5;241m.\u001b[39mDataFrame({\u001b[38;5;124m'\u001b[39m\u001b[38;5;124mQuestion Part\u001b[39m\u001b[38;5;124m'\u001b[39m:Question_Part,\u001b[38;5;124m'\u001b[39m\u001b[38;5;124mRequired Value\u001b[39m\u001b[38;5;124m'\u001b[39m:title,\u001b[38;5;124m'\u001b[39m\u001b[38;5;124mResult\u001b[39m\u001b[38;5;124m'\u001b[39m:results})\n\u001b[1;32m     18\u001b[0m answers \u001b[38;5;241m=\u001b[39m answers\u001b[38;5;241m.\u001b[39mset_index([\u001b[38;5;124m'\u001b[39m\u001b[38;5;124mQuestion Part\u001b[39m\u001b[38;5;124m'\u001b[39m,\u001b[38;5;124m'\u001b[39m\u001b[38;5;124mRequired Value\u001b[39m\u001b[38;5;124m'\u001b[39m])\n",
      "\u001b[0;31mNameError\u001b[0m: name 'logistic_regression' is not defined"
     ]
    }
   ],
   "source": [
    "Q6()"
   ]
  },
  {
   "cell_type": "code",
   "execution_count": null,
   "id": "b4899983",
   "metadata": {},
   "outputs": [],
   "source": []
  }
 ],
 "metadata": {
  "kernelspec": {
   "display_name": "pytorch",
   "language": "python",
   "name": "pytorch"
  },
  "language_info": {
   "codemirror_mode": {
    "name": "ipython",
    "version": 3
   },
   "file_extension": ".py",
   "mimetype": "text/x-python",
   "name": "python",
   "nbconvert_exporter": "python",
   "pygments_lexer": "ipython3",
   "version": "3.10.8"
  }
 },
 "nbformat": 4,
 "nbformat_minor": 5
}
